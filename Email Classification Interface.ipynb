{
 "cells": [
  {
   "cell_type": "code",
   "execution_count": 1,
   "id": "123fe041",
   "metadata": {},
   "outputs": [],
   "source": [
    "#Loading pickles.\n",
    "import pickle\n",
    "model=pickle.load(open(\"Email_Model.pkl\", \"rb\"))\n",
    "cv=pickle.load(open(\"Vectorizer.pkl\", \"rb\"))"
   ]
  },
  {
   "cell_type": "code",
   "execution_count": null,
   "id": "a4ac34db",
   "metadata": {},
   "outputs": [],
   "source": [
    "#Interface.\n",
    "inp=input(\"Enter Email and Press Enter! \")\n",
    "data=[inp]\n",
    "test_val=cv.transform(data).toarray()\n",
    "pred=model.predict(test_val)\n",
    "print(\"Spam!\" if pred==1 else \"Not Spam!\")"
   ]
  },
  {
   "cell_type": "code",
   "execution_count": null,
   "id": "23d2a052",
   "metadata": {},
   "outputs": [],
   "source": []
  },
  {
   "cell_type": "code",
   "execution_count": null,
   "id": "22321c5b",
   "metadata": {},
   "outputs": [],
   "source": []
  }
 ],
 "metadata": {
  "kernelspec": {
   "display_name": "Python 3 (ipykernel)",
   "language": "python",
   "name": "python3"
  },
  "language_info": {
   "codemirror_mode": {
    "name": "ipython",
    "version": 3
   },
   "file_extension": ".py",
   "mimetype": "text/x-python",
   "name": "python",
   "nbconvert_exporter": "python",
   "pygments_lexer": "ipython3",
   "version": "3.9.13"
  }
 },
 "nbformat": 4,
 "nbformat_minor": 5
}
